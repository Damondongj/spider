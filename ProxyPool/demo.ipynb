{
 "cells": [
  {
   "cell_type": "code",
   "execution_count": 9,
   "metadata": {},
   "outputs": [],
   "source": [
    "from fake_headers import Headers\n",
    "import requests\n",
    "import parsel\n",
    "\n",
    "url = 'http://m.gaosan.com/gaokao/265440.html'\n",
    "\n",
    "headers = Headers(headers=True).generate()\n",
    "response = requests.get(url=url, headers=headers)\n",
    "response.encoding = response.apparent_encoding\n",
    "\n",
    "selector = parsel.Selector(response.text)\n",
    "trs = selector.css(\"#data265440 tr\")\n",
    "\n",
    "for tr in trs:\n",
    "    print(tr)\n",
    "    print(tr.css('td:nth-child(1)::text').get())\n",
    "    print(tr.css('td:nth-child(3)::text').get())"
   ]
  },
  {
   "cell_type": "code",
   "execution_count": 10,
   "metadata": {},
   "outputs": [],
   "source": [
    "# pip install pyquery #安装\n",
    "from pyquery import PyQuery as pq #引入\n",
    "import requests\n",
    "html = '''\n",
    "    <div>\n",
    "        <p class=\"pidg\" id=\"name\">nba</p>\n",
    "        <td class=\"nobr player desktop\">\n",
    "            <a href=\"bucks\" class=\"ng-binding\" target=\"_parent\" \n",
    "            href1=\"/teams/#!/bucks\"><!-- ngIf: row.clinched -->密尔沃基&nbsp;雄鹿<b>nba</b></a>\n",
    "        </td>\n",
    "        <tr data-ng-repeat=\"(i, row) in page\" index=\"0\" class=\"ng-scope\">\n",
    "            <td class=\"nobr center bold ng-binding_0\" href=\"href01\">6</td>\n",
    "            <td class=\"nobr center bold desktop ng-binding\">18&nbsp;-&nbsp;4</td>\n",
    "            <td class=\"nobr center bold desktop ng-binding\">胜 6</td>\n",
    "            <td class=\"nobr center bold desktop ng-binding\">119.5</td>\n",
    "        </tr>\n",
    "    </div>\n",
    "    '''\n",
    "'''*************1、初始化***********************'''\n",
    "doc=pq(html)# 初始化：它的初始化方式有多种，比如直接传入字符串，传入URL，传人文件名，等等。\n",
    "# doc=pq(requests.get('https://blog.csdn.net/weixin_41685388/category_9426224.html').text)\n",
    "# doc=doc=pq(filename='demo.html')"
   ]
  },
  {
   "cell_type": "code",
   "execution_count": 11,
   "metadata": {},
   "outputs": [
    {
     "data": {
      "text/plain": [
       "[<a class=\"sister\" href=\"http://example.com/elsie\" id=\"link1\" rel=\"nofollow\">Elsie</a>,\n",
       " <a class=\"sister\" href=\"http://example.com/lacie\" id=\"link2\" rel=\"nofollow\">Lacie</a>,\n",
       " <a class=\"sister\" href=\"http://example.com/tillie\" id=\"link3\" rel=\"nofollow\">Tillie</a>]"
      ]
     },
     "execution_count": 11,
     "metadata": {},
     "output_type": "execute_result"
    }
   ],
   "source": [
    "from bs4 import BeautifulSoup\n",
    "\n",
    "\n",
    "html_doc = \"\"\"\n",
    "<html>\n",
    "<head>\n",
    "  <title>The Dormouse's story</title>\n",
    "</head>\n",
    "<body>\n",
    "  <p class=\"title\"><b>The Dormouse's story</b></p>\n",
    "\n",
    "  <p class=\"story\">\n",
    "    Once upon a time there were three little sisters; and their names were\n",
    "    <a rel=\"nofollow\" href=\"http://example.com/elsie\" class=\"sister\" id=\"link1\">Elsie</a>,\n",
    "    <a rel=\"nofollow\" href=\"http://example.com/lacie\" class=\"sister\" id=\"link2\">Lacie</a>\n",
    "    and\n",
    "    <a rel=\"nofollow\" href=\"http://example.com/tillie\" class=\"sister\" id=\"link3\">Tillie</a>;\n",
    "    and they lived at the bottom of a well.\n",
    "  </p>\n",
    "\n",
    "  <p class=\"story\">...</p>\n",
    "\"\"\"\n",
    "\n",
    "soup = BeautifulSoup(html_doc)\n",
    "\n",
    "soup.select(\"body a\")"
   ]
  },
  {
   "cell_type": "code",
   "execution_count": 18,
   "metadata": {},
   "outputs": [
    {
     "name": "stdout",
     "output_type": "stream",
     "text": [
      "arrLike: wbs                job1\n",
      "date_from    2019-04-01\n",
      "date_to      2019-05-01\n",
      "Name: 0, dtype: object\n",
      "<class 'str'>\n",
      "arrLike: wbs                job2\n",
      "date_from    2019-04-07\n",
      "date_to      2019-05-17\n",
      "Name: 1, dtype: object\n",
      "<class 'str'>\n",
      "arrLike: wbs                job3\n",
      "date_from    2019-05-16\n",
      "date_to      2019-05-31\n",
      "Name: 2, dtype: object\n",
      "<class 'str'>\n",
      "arrLike: wbs                job4\n",
      "date_from    2019-05-20\n",
      "date_to      2019-06-11\n",
      "Name: 3, dtype: object\n",
      "<class 'str'>\n"
     ]
    },
    {
     "data": {
      "text/plain": [
       "0    None\n",
       "1    None\n",
       "2    None\n",
       "3    None\n",
       "dtype: object"
      ]
     },
     "execution_count": 18,
     "metadata": {},
     "output_type": "execute_result"
    }
   ],
   "source": [
    "import pandas as pd\n",
    "import datetime as dt\n",
    "\n",
    "def get_interval_days(arrLike): \n",
    "    print(f\"arrLike: {arrLike}\")\n",
    "    print(arrLike[\"date_from\"])\n",
    "\n",
    "\n",
    "wbs = {\n",
    "    \"wbs\": [\"job1\", \"job2\", \"job3\", \"job4\"],\n",
    "    \"date_from\": [\"2019-04-01\", \"2019-04-07\", \"2019-05-16\",\"2019-05-20\"],\n",
    "    \"date_to\": [\"2019-05-01\", \"2019-05-17\", \"2019-05-31\", \"2019-06-11\"]\n",
    "}\n",
    "\n",
    "df = pd.DataFrame(wbs)\n",
    "df.apply(\n",
    "    get_interval_days, axis=1)"
   ]
  },
  {
   "cell_type": "code",
   "execution_count": 24,
   "metadata": {},
   "outputs": [
    {
     "name": "stdout",
     "output_type": "stream",
     "text": [
      "1\n",
      "2\n",
      "3\n",
      "4\n"
     ]
    }
   ],
   "source": [
    "html = \"\"\"\n",
    "<table id=\"table1\" cellspacing=\"0px\">\n",
    "  <tr>\n",
    "    <th>编号</th>\n",
    "    <th>姓名</th>\n",
    "    <th>年龄</th>\n",
    "  </tr>\n",
    "  <tr>\n",
    "    <td>1</td>\n",
    "    <td>张三</td>\n",
    "    <td>11</td>\n",
    "  </tr>\n",
    "  <tr>\n",
    "    <td>2<td>\n",
    "    <td>李四</td>\n",
    "    <td>12</td>\n",
    "  </tr>\n",
    "  <tr>\n",
    "    <td>3</td>\n",
    "    <td>王五</td>\n",
    "    <td>13</td>\n",
    "  </tr>\n",
    "  <tr>\n",
    "    <td>4</td>\n",
    "    <td>马六</td>\n",
    "    <td>14</td>\n",
    "  </tr>\n",
    "</table>\n",
    "\"\"\"\n",
    "\n",
    "from lxml import etree\n",
    "\n",
    "content = etree.HTML(html)\n",
    "rows = content.xpath('//table[@id=\"table1\"]/tr')[1:]\n",
    "for row in rows:\n",
    "    print(row.xpath(\"./td[1]/text()\")[0])"
   ]
  }
 ],
 "metadata": {
  "kernelspec": {
   "display_name": "Python 3",
   "language": "python",
   "name": "python3"
  },
  "language_info": {
   "codemirror_mode": {
    "name": "ipython",
    "version": 3
   },
   "file_extension": ".py",
   "mimetype": "text/x-python",
   "name": "python",
   "nbconvert_exporter": "python",
   "pygments_lexer": "ipython3",
   "version": "3.6.8"
  },
  "orig_nbformat": 4,
  "vscode": {
   "interpreter": {
    "hash": "5f8831d21f27ca7ea35646f39de7dd31bf318bfdb0c4c19dd35ff000f9b26728"
   }
  }
 },
 "nbformat": 4,
 "nbformat_minor": 2
}
